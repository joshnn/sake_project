{
  "nbformat": 4,
  "nbformat_minor": 0,
  "metadata": {
    "colab": {
      "provenance": [],
      "authorship_tag": "ABX9TyO0vQ0nubsdGEfczyef8Xeu",
      "include_colab_link": true
    },
    "kernelspec": {
      "name": "python3",
      "display_name": "Python 3"
    },
    "language_info": {
      "name": "python"
    }
  },
  "cells": [
    {
      "cell_type": "markdown",
      "metadata": {
        "id": "view-in-github",
        "colab_type": "text"
      },
      "source": [
        "<a href=\"https://colab.research.google.com/github/joshnn/sake_project/blob/main/samples/%E5%88%9D%E3%82%81%E3%81%A6%E3%81%AE%E6%8A%95%E8%B3%87.ipynb\" target=\"_parent\"><img src=\"https://colab.research.google.com/assets/colab-badge.svg\" alt=\"Open In Colab\"/></a>"
      ]
    },
    {
      "cell_type": "code",
      "source": [
        "!pip install llama-index"
      ],
      "metadata": {
        "colab": {
          "base_uri": "https://localhost:8080/"
        },
        "id": "giTPbL4wITUD",
        "outputId": "699cd921-752f-4782-af6a-6b63b33b42bd"
      },
      "execution_count": 1,
      "outputs": [
        {
          "output_type": "stream",
          "name": "stdout",
          "text": [
            "Collecting llama-index\n",
            "  Downloading llama_index-0.7.24-py3-none-any.whl (669 kB)\n",
            "\u001b[2K     \u001b[90m━━━━━━━━━━━━━━━━━━━━━━━━━━━━━━━━━━━━━━━\u001b[0m \u001b[32m669.6/669.6 kB\u001b[0m \u001b[31m7.0 MB/s\u001b[0m eta \u001b[36m0:00:00\u001b[0m\n",
            "\u001b[?25hCollecting tiktoken (from llama-index)\n",
            "  Downloading tiktoken-0.4.0-cp310-cp310-manylinux_2_17_x86_64.manylinux2014_x86_64.whl (1.7 MB)\n",
            "\u001b[2K     \u001b[90m━━━━━━━━━━━━━━━━━━━━━━━━━━━━━━━━━━━━━━━━\u001b[0m \u001b[32m1.7/1.7 MB\u001b[0m \u001b[31m20.0 MB/s\u001b[0m eta \u001b[36m0:00:00\u001b[0m\n",
            "\u001b[?25hCollecting dataclasses-json (from llama-index)\n",
            "  Downloading dataclasses_json-0.5.14-py3-none-any.whl (26 kB)\n",
            "Collecting langchain>=0.0.218 (from llama-index)\n",
            "  Downloading langchain-0.0.262-py3-none-any.whl (1.5 MB)\n",
            "\u001b[2K     \u001b[90m━━━━━━━━━━━━━━━━━━━━━━━━━━━━━━━━━━━━━━━━\u001b[0m \u001b[32m1.5/1.5 MB\u001b[0m \u001b[31m30.1 MB/s\u001b[0m eta \u001b[36m0:00:00\u001b[0m\n",
            "\u001b[?25hRequirement already satisfied: sqlalchemy>=2.0.15 in /usr/local/lib/python3.10/dist-packages (from llama-index) (2.0.19)\n",
            "Requirement already satisfied: numpy in /usr/local/lib/python3.10/dist-packages (from llama-index) (1.23.5)\n",
            "Requirement already satisfied: tenacity<9.0.0,>=8.2.0 in /usr/local/lib/python3.10/dist-packages (from llama-index) (8.2.2)\n",
            "Collecting openai>=0.26.4 (from llama-index)\n",
            "  Downloading openai-0.27.8-py3-none-any.whl (73 kB)\n",
            "\u001b[2K     \u001b[90m━━━━━━━━━━━━━━━━━━━━━━━━━━━━━━━━━━━━━━━━\u001b[0m \u001b[32m73.6/73.6 kB\u001b[0m \u001b[31m9.2 MB/s\u001b[0m eta \u001b[36m0:00:00\u001b[0m\n",
            "\u001b[?25hRequirement already satisfied: pandas in /usr/local/lib/python3.10/dist-packages (from llama-index) (1.5.3)\n",
            "Requirement already satisfied: urllib3<2 in /usr/local/lib/python3.10/dist-packages (from llama-index) (1.26.16)\n",
            "Requirement already satisfied: fsspec>=2023.5.0 in /usr/local/lib/python3.10/dist-packages (from llama-index) (2023.6.0)\n",
            "Collecting typing-inspect>=0.8.0 (from llama-index)\n",
            "  Downloading typing_inspect-0.9.0-py3-none-any.whl (8.8 kB)\n",
            "Requirement already satisfied: typing-extensions>=4.5.0 in /usr/local/lib/python3.10/dist-packages (from llama-index) (4.7.1)\n",
            "Requirement already satisfied: beautifulsoup4 in /usr/local/lib/python3.10/dist-packages (from llama-index) (4.11.2)\n",
            "Requirement already satisfied: nest-asyncio in /usr/local/lib/python3.10/dist-packages (from llama-index) (1.5.7)\n",
            "Requirement already satisfied: PyYAML>=5.3 in /usr/local/lib/python3.10/dist-packages (from langchain>=0.0.218->llama-index) (6.0.1)\n",
            "Requirement already satisfied: aiohttp<4.0.0,>=3.8.3 in /usr/local/lib/python3.10/dist-packages (from langchain>=0.0.218->llama-index) (3.8.5)\n",
            "Requirement already satisfied: async-timeout<5.0.0,>=4.0.0 in /usr/local/lib/python3.10/dist-packages (from langchain>=0.0.218->llama-index) (4.0.2)\n",
            "Collecting langsmith<0.1.0,>=0.0.11 (from langchain>=0.0.218->llama-index)\n",
            "  Downloading langsmith-0.0.21-py3-none-any.whl (32 kB)\n",
            "Requirement already satisfied: numexpr<3.0.0,>=2.8.4 in /usr/local/lib/python3.10/dist-packages (from langchain>=0.0.218->llama-index) (2.8.4)\n",
            "Collecting openapi-schema-pydantic<2.0,>=1.2 (from langchain>=0.0.218->llama-index)\n",
            "  Downloading openapi_schema_pydantic-1.2.4-py3-none-any.whl (90 kB)\n",
            "\u001b[2K     \u001b[90m━━━━━━━━━━━━━━━━━━━━━━━━━━━━━━━━━━━━━━━━\u001b[0m \u001b[32m90.0/90.0 kB\u001b[0m \u001b[31m10.2 MB/s\u001b[0m eta \u001b[36m0:00:00\u001b[0m\n",
            "\u001b[?25hRequirement already satisfied: pydantic<2,>=1 in /usr/local/lib/python3.10/dist-packages (from langchain>=0.0.218->llama-index) (1.10.12)\n",
            "Requirement already satisfied: requests<3,>=2 in /usr/local/lib/python3.10/dist-packages (from langchain>=0.0.218->llama-index) (2.31.0)\n",
            "Collecting marshmallow<4.0.0,>=3.18.0 (from dataclasses-json->llama-index)\n",
            "  Downloading marshmallow-3.20.1-py3-none-any.whl (49 kB)\n",
            "\u001b[2K     \u001b[90m━━━━━━━━━━━━━━━━━━━━━━━━━━━━━━━━━━━━━━━━\u001b[0m \u001b[32m49.4/49.4 kB\u001b[0m \u001b[31m4.8 MB/s\u001b[0m eta \u001b[36m0:00:00\u001b[0m\n",
            "\u001b[?25hRequirement already satisfied: tqdm in /usr/local/lib/python3.10/dist-packages (from openai>=0.26.4->llama-index) (4.65.0)\n",
            "Requirement already satisfied: greenlet!=0.4.17 in /usr/local/lib/python3.10/dist-packages (from sqlalchemy>=2.0.15->llama-index) (2.0.2)\n",
            "Collecting mypy-extensions>=0.3.0 (from typing-inspect>=0.8.0->llama-index)\n",
            "  Downloading mypy_extensions-1.0.0-py3-none-any.whl (4.7 kB)\n",
            "Requirement already satisfied: soupsieve>1.2 in /usr/local/lib/python3.10/dist-packages (from beautifulsoup4->llama-index) (2.4.1)\n",
            "Requirement already satisfied: python-dateutil>=2.8.1 in /usr/local/lib/python3.10/dist-packages (from pandas->llama-index) (2.8.2)\n",
            "Requirement already satisfied: pytz>=2020.1 in /usr/local/lib/python3.10/dist-packages (from pandas->llama-index) (2022.7.1)\n",
            "Requirement already satisfied: regex>=2022.1.18 in /usr/local/lib/python3.10/dist-packages (from tiktoken->llama-index) (2022.10.31)\n",
            "Requirement already satisfied: attrs>=17.3.0 in /usr/local/lib/python3.10/dist-packages (from aiohttp<4.0.0,>=3.8.3->langchain>=0.0.218->llama-index) (23.1.0)\n",
            "Requirement already satisfied: charset-normalizer<4.0,>=2.0 in /usr/local/lib/python3.10/dist-packages (from aiohttp<4.0.0,>=3.8.3->langchain>=0.0.218->llama-index) (3.2.0)\n",
            "Requirement already satisfied: multidict<7.0,>=4.5 in /usr/local/lib/python3.10/dist-packages (from aiohttp<4.0.0,>=3.8.3->langchain>=0.0.218->llama-index) (6.0.4)\n",
            "Requirement already satisfied: yarl<2.0,>=1.0 in /usr/local/lib/python3.10/dist-packages (from aiohttp<4.0.0,>=3.8.3->langchain>=0.0.218->llama-index) (1.9.2)\n",
            "Requirement already satisfied: frozenlist>=1.1.1 in /usr/local/lib/python3.10/dist-packages (from aiohttp<4.0.0,>=3.8.3->langchain>=0.0.218->llama-index) (1.4.0)\n",
            "Requirement already satisfied: aiosignal>=1.1.2 in /usr/local/lib/python3.10/dist-packages (from aiohttp<4.0.0,>=3.8.3->langchain>=0.0.218->llama-index) (1.3.1)\n",
            "Requirement already satisfied: packaging>=17.0 in /usr/local/lib/python3.10/dist-packages (from marshmallow<4.0.0,>=3.18.0->dataclasses-json->llama-index) (23.1)\n",
            "Requirement already satisfied: six>=1.5 in /usr/local/lib/python3.10/dist-packages (from python-dateutil>=2.8.1->pandas->llama-index) (1.16.0)\n",
            "Requirement already satisfied: idna<4,>=2.5 in /usr/local/lib/python3.10/dist-packages (from requests<3,>=2->langchain>=0.0.218->llama-index) (3.4)\n",
            "Requirement already satisfied: certifi>=2017.4.17 in /usr/local/lib/python3.10/dist-packages (from requests<3,>=2->langchain>=0.0.218->llama-index) (2023.7.22)\n",
            "Installing collected packages: mypy-extensions, marshmallow, typing-inspect, tiktoken, openapi-schema-pydantic, langsmith, openai, dataclasses-json, langchain, llama-index\n",
            "Successfully installed dataclasses-json-0.5.14 langchain-0.0.262 langsmith-0.0.21 llama-index-0.7.24 marshmallow-3.20.1 mypy-extensions-1.0.0 openai-0.27.8 openapi-schema-pydantic-1.2.4 tiktoken-0.4.0 typing-inspect-0.9.0\n"
          ]
        }
      ]
    },
    {
      "cell_type": "code",
      "execution_count": 2,
      "metadata": {
        "id": "V4SnRlIaIJjn"
      },
      "outputs": [],
      "source": [
        "from llama_index import ListIndex, SimpleWebPageReader\n",
        "from IPython.display import Markdown, display\n",
        "import os\n"
      ]
    },
    {
      "cell_type": "code",
      "source": [
        "!pip install html2text"
      ],
      "metadata": {
        "colab": {
          "base_uri": "https://localhost:8080/"
        },
        "id": "WmY8bZY9IqeO",
        "outputId": "baaaff8a-7e43-418c-92bb-24e0c5fcc037"
      },
      "execution_count": 4,
      "outputs": [
        {
          "output_type": "stream",
          "name": "stdout",
          "text": [
            "Collecting html2text\n",
            "  Downloading html2text-2020.1.16-py3-none-any.whl (32 kB)\n",
            "Installing collected packages: html2text\n",
            "Successfully installed html2text-2020.1.16\n"
          ]
        }
      ]
    },
    {
      "cell_type": "code",
      "source": [
        "documents = SimpleWebPageReader(html_to_text=True).load_data(\n",
        "    [\"https://www.smbcnikko.co.jp/first/stock/\",\n",
        "     \"https://faq.rakuten-sec.co.jp/\"]\n",
        ")"
      ],
      "metadata": {
        "id": "62cjo0kAIc6l"
      },
      "execution_count": 16,
      "outputs": []
    },
    {
      "cell_type": "code",
      "source": [
        "documents[0]"
      ],
      "metadata": {
        "colab": {
          "base_uri": "https://localhost:8080/"
        },
        "id": "47bzpdoFIfYx",
        "outputId": "cd118a22-74aa-4d0b-d12f-e83d1feed263"
      },
      "execution_count": 6,
      "outputs": [
        {
          "output_type": "execute_result",
          "data": {
            "text/plain": [
              "Document(id_='896af0bc-085f-40e3-8306-03a350493a9d', embedding=None, metadata={}, excluded_embed_metadata_keys=[], excluded_llm_metadata_keys=[], relationships={}, hash='8b13360bdf0b590534445491392857e3e08d3a0362bc1255e40eb735050ba890', text='[ \\x8cÂ\\x90l\\x82Ì\\x82¨\\x8bq\\x97l\\x83g\\x83b\\x83v](/) [ \\x82Í\\x82¶\\x82ß\\x82Ä\\x82Ì\\x95û\\x82Ö](/first/)\\n\\x82Í\\x82¶\\x82ß\\x82Ä\\x82Ì\\x8a\\x94\\x8e®\\x93\\x8a\\x8e\\x91\\x81i\\x8f\\x89\\x90S\\x8eÒ\\x8cü\\x82¯\\x81j\\n\\n# \\x82Í\\x82¶\\x82ß\\x82Ä\\x82Ì\\x8a\\x94\\x8e®\\x93\\x8a\\x8e\\x91\\x81i\\x8f\\x89\\x90S\\x8eÒ\\x8cü\\x82¯\\x81j\\n\\n![\\x82Í\\x82¶\\x82ß\\x82Ä\\x82Ì\\x8a\\x94\\x8e®\\x93\\x8a\\x8e\\x91](/first/stock/img/index_img_001.jpg)\\n\\n\\x83\\x8a\\x83X\\x83N\\x82Í\\x82 \\x82é\\x82à\\x82Ì\\x82Ì\\x81A\\x83n\\x83C\\x83\\x8a\\x83^\\x81[\\x83\\x93\\x82ª\\x8aú\\x91Ò\\x82Å\\x82«\\x82é\\x82Ì\\x82à\\x96£\\x97Í\\x81I  \\n\\x8aî\\x91b\\x82©\\x82ç\\x8eÀ\\x91H\\x82Ü\\x82Å\\x82í\\x82©\\x82è\\x82â\\x82·\\x82\\xad\\x89ð\\x90à\\x82µ\\x82Ü\\x82·\\x81B\\n\\n## 1.\\x8a\\x94\\x8e®\\x82Ì\\x8aî\\x91b\\x81i\\x8f\\x89\\x90S\\x8eÒ\\x8cü\\x82¯\\x81j\\n\\n  * [\\x8a\\x94\\x8e®\\x93\\x8a\\x8e\\x91\\x82Æ\\x82Í\\x81H\\x81`\\x8a\\x94\\x8e®\\x82Ì\\x83C\\x83\\x8d\\x83n\\x81`](/first/stock/kiso01/)\\n  * [\\x82Ç\\x82ê\\x82\\xad\\x82ç\\x82¢\\x82Ì\\x8bà\\x8az\\x82©\\x82ç\\x94\\x83\\x82¦\\x82é\\x82Ì\\x81H](/first/stock/kiso01/kiso01_2.html)\\n  * [\\x8a\\x94\\x8e®\\x93\\x8a\\x8e\\x91\\x82Ì\\x96£\\x97Í\\x82Æ\\x92m\\x82Á\\x82Ä\\x82¨\\x82«\\x82½\\x82¢\\x82±\\x82Æ](/first/stock/kiso01/kiso01_3.html)\\n\\n## 2.\\x8a\\x94\\x89¿\\x82Ì\\x93®\\x82«\\x82ð\\x83`\\x83F\\x83b\\x83N\\x81i\\x8f\\x89\\x90S\\x8eÒ\\x8cü\\x82¯\\x81j\\n\\n  * [\\x8a\\x94\\x89¿\\x82Í\\x82Ç\\x82¤\\x82â\\x82Á\\x82Ä\\x8c©\\x82½\\x82ç\\x82æ\\x82¢\\x81H](/first/stock/kiso02/)\\n  * [\\x90V\\x95·\\x82â\\x83j\\x83 \\x81[\\x83X\\x82Å\\x82æ\\x82\\xad\\x82«\\x82\\xad\\x8a\\x94\\x89¿\\x8ew\\x90\\x94\\x82Á\\x82Ä\\x81H](/first/stock/kiso02/kiso02_2.html)\\n  * [\\x8bà\\x97\\x98\\x82â\\x88×\\x91Ö\\x82Æ\\x8a\\x94\\x89¿\\x82Ì\\x8aÖ\\x8cW](/first/stock/kiso02/kiso02_3.html)\\n\\n## 3.\\x96Á\\x95¿\\x91I\\x82Ñ\\x82Í\\x82Ç\\x82¤\\x82µ\\x82½\\x82ç\\x82æ\\x82¢\\x81H\\x81i\\x8f\\x89\\x90S\\x8eÒ\\x8cü\\x82¯\\x81j\\n\\n  * [\\x93\\x8a\\x8e\\x91\\x90æ\\x82Í\\x82Ç\\x82¤\\x82â\\x82Á\\x82Ä\\x8c\\x88\\x82ß\\x82½\\x82ç\\x82æ\\x82¢\\x81H](/first/stock/kiso03/)\\n  * [\\x8a\\x94\\x89¿\\x82Ì\\x90 \\x8f\\x80\\x82Í\\x81H\\x81`\\x8a\\x84\\x8d\\x82\\x81H\\x8a\\x84\\x88À\\x81H\\x81`](/first/stock/kiso03/kiso03_2.html)\\n  * [\\x8a\\x94\\x89¿\\x83`\\x83\\x83\\x81[\\x83g\\x82Ì\\x8c©\\x95û](/first/stock/kiso03/kiso03_3.html)\\n\\n## 4.\\x82¨\\x8eæ\\x88ø\\x82Ì\\x97¬\\x82ê\\x81i\\x8f\\x89\\x90S\\x8eÒ\\x8cü\\x82¯\\x81j\\n\\n  * [\\x82Ç\\x82¤\\x82â\\x82Á\\x82Ä\\x92\\x8d\\x95¶\\x82µ\\x82½\\x82ç\\x82æ\\x82¢\\x81H](/first/stock/kiso04/)\\n  * [\\x8eè\\x90\\x94\\x97¿\\x82â\\x90Å\\x8bà\\x82Í\\x82Ç\\x82ê\\x82\\xad\\x82ç\\x82¢\\x82©\\x82©\\x82é\\x81H](/first/stock/kiso04/kiso04_2.html)\\n\\n## \\x88ê\\x95à\\x90i\\x82ñ\\x82¾\\x8a\\x94\\x8e®\\x93\\x8a\\x8e\\x91\\n\\n  * [\\x83e\\x83N\\x83j\\x83J\\x83\\x8b\\x83`\\x83\\x83\\x81[\\x83g\\x8a\\x88\\x97p\\x8fp](/first/stock/ouyo01/)\\n  * [LC-PH \\x90í\\x97ª](/first/stock/ouyo01/ouyo01_2.html)\\n  * [\\x83g\\x83\\x8c\\x81[\\x83f\\x83B\\x83\\x93\\x83O\\x83c\\x81[\\x83\\x8b\\x82ð\\x8a\\x88\\x97p](/service/online/trade/content/powertrader/)\\n\\n## \\x82±\\x82ñ\\x82È\\x8eæ\\x88ø\\x95û\\x96@\\x82à\\n\\n  * [\\x83L\\x83\\x93\\x83J\\x83u\\x81i\\x8bà\\x8az\\x81E\\x8a\\x94\\x90\\x94\\x8ew\\x92è\\x8eæ\\x88ø\\x81j\\x82Æ\\x82Í\\x81H](/products/stock/kinkabu/)\\n  * [\\x90V\\x8bK\\x8cö\\x8aJ\\x8a\\x94\\x8e®\\x81iIPO\\x81j/\\x8cö\\x95å\\x81E\\x94\\x84\\x8fo\\x82µ\\x81iPO\\x81j\\x82Æ\\x82Í\\x81H](/first/stock/ouyo02/)\\n  * [\\x90M\\x97p\\x8eæ\\x88ø\\x82Æ\\x82Í\\x81H](/products/stock/margin/)\\n\\n## \\x93ú\\x8b»\\x83t\\x83\\x8d\\x83b\\x83M\\x81[\\x82Å\\x8aw\\x82Ô\\x81u\\x8a\\x94\\x8e®\\x93\\x8a\\x8e\\x91\\x83L\\x83z\\x83\\x93\\x82Ì\\x83L\\x81v\\n\\n![\\x93ú\\x8b»\\x83t\\x83\\x8d\\x83b\\x83M\\x81\\\\[\\x82Å\\x8aw\\x82Ô\\x81u\\x8a\\x94\\x8e®\\x93\\x8a\\x8e\\x91\\x83L\\x83z\\x83\\x93\\x82Ì\\x83L\\x81v](/first/stock/img/index_img_002.png)\\n\\n\\x92m\\x82Á\\x82Ä\\x82¢\\x82»\\x82¤\\x82Å\\x92m\\x82ç\\x82È\\x82¢\\x8a\\x94\\x8e®\\x93\\x8a\\x8e\\x91\\x82Ì\\x83L\\x83z\\x83\\x93\\x82ð\\x8aw\\x82×\\x82Î\\x81A\\x93\\x8a\\x8e\\x91\\x90¬\\x89Ê\\x82ª\\x8fã\\x82ª\\x82é\\x82©\\x82à!?\\n\\x93ú\\x8b»\\x83t\\x83\\x8d\\x83b\\x83M\\x81[\\x82Å\\x81u\\x8a\\x94\\x8e®\\x93\\x8a\\x8e\\x91\\x83L\\x83z\\x83\\x93\\x82Ì\\x83L\\x81v\\x82Ì\\x98A\\x8dÚ\\x82ð\\x83`\\x83F\\x83b\\x83N\\x82µ\\x82Ä\\x82Ý\\x82æ\\x82¤\\x81B\\n\\n  * [\\x8a\\x94\\x8e®\\x93\\x8a\\x8e\\x91\\x82Á\\x82Ä\\x82È\\x82 \\x82É?](https://froggy.smbcnikko.co.jp/14206/)\\n  * [\\x8a\\x94\\x8eå\\x82É\\x82È\\x82é\\x82Æ\\x89½\\x82ª\\x82Å\\x82«\\x82é?](https://froggy.smbcnikko.co.jp/14212/)\\n  * [\\x8a\\x94\\x89¿\\x82Í\\x82È\\x82º\\x93®\\x82\\xad?\\x81@\\x94\\x83\\x82¢\\x8e\\x9e\\x82Í\\x82 \\x82é\\x82Ì?](https://froggy.smbcnikko.co.jp/14222/)\\n  * [\\x96Á\\x95¿\\x82Í\\x82Ç\\x82¤\\x82â\\x82Á\\x82Ä\\x91I\\x82Ô\\x81H](https://froggy.smbcnikko.co.jp/14582/)\\n  * [\\x83`\\x83\\x83\\x81[\\x83g\\x82Á\\x82Ä\\x82Ç\\x82¤\\x93Ç\\x82Þ\\x82Ì?](https://froggy.smbcnikko.co.jp/14584/)\\n  * [\\x83`\\x83\\x83\\x81[\\x83g\\x82Á\\x82Ä\\x82Ç\\x82¤\\x8eg\\x82¤?](https://froggy.smbcnikko.co.jp/14586/)\\n  * [\\x8a\\x94\\x89¿\\x8ew\\x90\\x94\\x82Á\\x82Ä\\x82È\\x82ñ\\x82¾\\x82ë\\x82¤?](https://froggy.smbcnikko.co.jp/14588/)\\n  * [\\x82¢\\x82ë\\x82¢\\x82ë\\x82È\\x8cû\\x8dÀ\\x82Æ\\x90Å\\x8bà\\x82Ì\\x82±\\x82Æ](https://froggy.smbcnikko.co.jp/15652/)\\n  * [\\x8a\\x94\\x8e®\\x8fã\\x8fê\\x82Æ\\x8fØ\\x8c\\x94\\x8eæ\\x88ø\\x8f\\x8a\\x82Ì\\x83J\\x83\\x93\\x83P\\x83C](https://froggy.smbcnikko.co.jp/15654/)\\n  * [\\x83h\\x83\\x8b\\x83R\\x83X\\x83g\\x95½\\x8bÏ\\x96@\\x82Á\\x82Ä\\x82È\\x82 \\x82É?](https://froggy.smbcnikko.co.jp/15656/)\\n\\n## \\x83l\\x83b\\x83g\\x83Z\\x83~\\x83i\\x81[\\x81@\\x8a\\x94\\x8e®\\x95Ò\\n\\n[\\x83o\\x83b\\x83N\\x83i\\x83\\x93\\x83o\\x81[\\x82ð\\x8c©\\x82é](/seminar/nikko_online/equity/index.html)\\n\\n## \\x8a\\x94\\x8e®\\x93\\x8a\\x8e\\x91\\x82É\\x95Ö\\x97\\x98\\x82È\\x83T\\x81[\\x83r\\x83X\\n\\n\\x82²\\x91¶\\x92m\\x82Å\\x82·\\x82©\\x81H\\x82r\\x82l\\x82a\\x82b\\x93ú\\x8b»\\x8fØ\\x8c\\x94\\x82È\\x82ç\\x81A\\x8a\\x94\\x8e®\\x93\\x8a\\x8e\\x91\\x82É\\x95Ö\\x97\\x98\\x82È\\x83T\\x81[\\x83r\\x83X\\x82ð\\x82²\\x97p\\x88Ó\\x81I\\n\\n[\\x83\\x81\\x81[\\x83\\x8b\\x83T\\x81[\\x83r\\x83X\\x82Ì\\x8a\\x88\\x97p](/service/online/mailservice/)\\n\\n[\\x83X\\x83}\\x81[\\x83g\\x83t\\x83H\\x83\\x93\\x83A\\x83v\\x83\\x8a\\x82Å\\x8eè\\x8cy\\x82É\\x8a\\x94\\x8eæ\\x88ø](/service/online/smartphone/)\\n\\n## \\x8a\\x94\\x8e®\\x93\\x8a\\x8e\\x91\\x82Ì\\x82²\\x8e¿\\x96â\\x81E\\x8d¢\\x82Á\\x82½\\x82Æ\\x82«\\x82É\\x82Í\\n\\n\\x82¨\\x8bq\\x97l\\x82©\\x82ç\\x82æ\\x82\\xad\\x82 \\x82é\\x82²\\x8e¿\\x96â\\x82â\\x97p\\x8cê\\x82ð\\x82í\\x82©\\x82è\\x82â\\x82·\\x82\\xad\\x89ð\\x90à\\x81I\\n\\n[\\x82æ\\x82\\xad\\x82\\n\\x82é\\x82²\\x8e¿\\x96â\\x81i\\x8a\\x94\\x8e®\\x95Ò\\x81j](https://faq.smbcnikko.co.jp/smbcnikko/web/faq/result.asp?NodeID=308)\\n\\n[\\x82æ\\x82\\xad\\x82\\n\\x82é\\x82²\\x8e¿\\x96â\\x81i\\x8a\\x94\\x8e®\\x95Ò\\x81j](https://faq.smbcnikko.co.jp/smbcnikko/sp/faq/result.asp?NodeID=308)\\n\\n[\\x82Í\\x82¶\\x82ß\\x82Ä\\x82Å\\x82à\\x82í\\x82©\\x82è\\x82â\\x82·\\x82¢\\x97p\\x8cê\\x8fW](/terms/)\\n\\n## \\x82±\\x82Ì\\x83y\\x81[\\x83W\\x82Ì\\x8aÖ\\x98A\\x8fî\\x95ñ\\n\\n', start_char_idx=None, end_char_idx=None, text_template='{metadata_str}\\n\\n{content}', metadata_template='{key}: {value}', metadata_seperator='\\n')"
            ]
          },
          "metadata": {},
          "execution_count": 6
        }
      ]
    },
    {
      "cell_type": "code",
      "source": [
        "!pip install python-dotenv"
      ],
      "metadata": {
        "colab": {
          "base_uri": "https://localhost:8080/"
        },
        "id": "m1LJFDNWN4T4",
        "outputId": "651473c5-a92f-40bd-cb3a-a808143b1f57"
      },
      "execution_count": 24,
      "outputs": [
        {
          "output_type": "stream",
          "name": "stdout",
          "text": [
            "Requirement already satisfied: python-dotenv in /usr/local/lib/python3.10/dist-packages (1.0.0)\n"
          ]
        }
      ]
    },
    {
      "cell_type": "code",
      "source": [
        "from dotenv import load_dotenv\n",
        "load_dotenv()\n",
        "\n",
        "import os\n",
        "#print(os.getenv('OPENAI_API_KEY'))"
      ],
      "metadata": {
        "id": "xwTeHhPsI4Fk"
      },
      "execution_count": 28,
      "outputs": []
    },
    {
      "cell_type": "code",
      "source": [
        "import openai\n",
        "openai.api_key = os.getenv(\"OPENAI_API_KEY\")"
      ],
      "metadata": {
        "id": "Rt7Sdd9FJe2c"
      },
      "execution_count": 27,
      "outputs": []
    },
    {
      "cell_type": "code",
      "source": [
        "index = ListIndex.from_documents(documents)"
      ],
      "metadata": {
        "id": "dfckUP6eIxNu"
      },
      "execution_count": 17,
      "outputs": []
    },
    {
      "cell_type": "code",
      "source": [
        "# set Logging to DEBUG for more detailed outputs\n",
        "query_engine = index.as_query_engine()\n",
        "response = query_engine.query(\"はじめて投資するときに最初にやる事\")"
      ],
      "metadata": {
        "id": "IKO6MqWyIzbr"
      },
      "execution_count": 18,
      "outputs": []
    },
    {
      "cell_type": "code",
      "source": [
        "display(Markdown(f\"<b>{response}</b>\"))"
      ],
      "metadata": {
        "colab": {
          "base_uri": "https://localhost:8080/",
          "height": 81
        },
        "id": "Ir33VYnVJxSg",
        "outputId": "e0d147a6-8507-41e7-d52d-cc75787802ed"
      },
      "execution_count": 12,
      "outputs": [
        {
          "output_type": "display_data",
          "data": {
            "text/plain": [
              "<IPython.core.display.Markdown object>"
            ],
            "text/markdown": "<b>最初にやることは、投資に関する基礎知識を学ぶことです。投資にはリスクが伴うため、まずは投資の仕組みやリスク管理の方法について学びましょう。また、自分の投資目標やリスク許容度を明確にし、それに合った投資戦略を考えることも重要です。さらに、投資先の情報を収集し、慎重に選ぶことも大切です。投資に関する相談やアドバイスを受けることもおすすめです。</b>"
          },
          "metadata": {}
        }
      ]
    },
    {
      "cell_type": "code",
      "source": [
        "display(Markdown(f\"<b>{response}</b>\"))"
      ],
      "metadata": {
        "colab": {
          "base_uri": "https://localhost:8080/",
          "height": 116
        },
        "id": "xezcnXqoKpM5",
        "outputId": "00952748-e633-48da-f614-6662889f3dcc"
      },
      "execution_count": 19,
      "outputs": [
        {
          "output_type": "display_data",
          "data": {
            "text/plain": [
              "<IPython.core.display.Markdown object>"
            ],
            "text/markdown": "<b>はじめて投資するときに最初にやることは、投資に関する基礎知識を学ぶことです。投資にはリスクが伴うため、まずは投資の仕組みやリスク管理の方法について理解する必要があります。また、自分の投資目標やリスク許容度を明確にし、それに合った投資戦略を立てることも重要です。さらに、投資先の情報を収集し、投資商品や投資先の企業や市場の動向を分析することも大切です。投資を始める前に、自分自身の投資スタイルや目標に合った投資方法を見つけるために、投資に関する書籍やウェブサイトの情報を活用することもおすすめです。</b>"
          },
          "metadata": {}
        }
      ]
    },
    {
      "cell_type": "code",
      "source": [
        "response = query_engine.query(\"投資に関する基礎知識を学んだ後にやる事は?\")\n",
        "display(Markdown(f\"<b>{response}</b>\"))"
      ],
      "metadata": {
        "colab": {
          "base_uri": "https://localhost:8080/",
          "height": 213
        },
        "id": "rlgzW7TSJ6ux",
        "outputId": "43ee9f65-3541-40a4-bc33-a191c510bbd2"
      },
      "execution_count": 14,
      "outputs": [
        {
          "output_type": "display_data",
          "data": {
            "text/plain": [
              "<IPython.core.display.Markdown object>"
            ],
            "text/markdown": "<b>学んだ基礎知識を活かして、投資を始める前に以下のことを行うことが重要です。\n1. 自分の投資目標を明確にする。\n2. リスク許容度を評価し、自分に合った投資スタイルを選ぶ。\n3. 投資先の情報を収集し、分析する。\n4. 投資先のリスクとリターンを評価する。\n5. 投資先の選択肢を比較し、ポートフォリオを構築する。\n6. 投資先のモニタリングとリバランスを定期的に行う。\n7. 投資の成果を評価し、必要に応じて戦略を見直す。\n\nただし、この文脈には具体的な投資先や手法についての情報は含まれていませんので、詳細なアドバイスは提供できません。</b>"
          },
          "metadata": {}
        }
      ]
    },
    {
      "cell_type": "code",
      "source": [
        "response = query_engine.query(\"投資に関する基礎知識を学んだ後にやる事は?\")\n",
        "display(Markdown(f\"<b>{response}</b>\"))"
      ],
      "metadata": {
        "colab": {
          "base_uri": "https://localhost:8080/",
          "height": 46
        },
        "id": "Wy4gi7blKuTn",
        "outputId": "0424be0e-57b5-4f7f-f9c9-9d7af0c604f6"
      },
      "execution_count": 22,
      "outputs": [
        {
          "output_type": "display_data",
          "data": {
            "text/plain": [
              "<IPython.core.display.Markdown object>"
            ],
            "text/markdown": "<b>After learning the basics of investment, it is important to take action and start investing.</b>"
          },
          "metadata": {}
        }
      ]
    },
    {
      "cell_type": "code",
      "source": [
        "response = query_engine.query(\"自分の投資目標を明確にするとは具体的に何？\")\n",
        "display(Markdown(f\"<b>{response}</b>\"))"
      ],
      "metadata": {
        "colab": {
          "base_uri": "https://localhost:8080/",
          "height": 46
        },
        "id": "S_4uGbRCKLXS",
        "outputId": "8adf7ff6-d6bf-409c-b32c-96fec6842950"
      },
      "execution_count": 21,
      "outputs": [
        {
          "output_type": "display_data",
          "data": {
            "text/plain": [
              "<IPython.core.display.Markdown object>"
            ],
            "text/markdown": "<b>I'm sorry, but I can't answer that question based on the given context.</b>"
          },
          "metadata": {}
        }
      ]
    }
  ]
}