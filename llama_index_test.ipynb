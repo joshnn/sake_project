{
  "nbformat": 4,
  "nbformat_minor": 0,
  "metadata": {
    "colab": {
      "provenance": [],
      "authorship_tag": "ABX9TyM8dt8G96pEw6bRBzEAAITv",
      "include_colab_link": true
    },
    "kernelspec": {
      "name": "python3",
      "display_name": "Python 3"
    },
    "language_info": {
      "name": "python"
    }
  },
  "cells": [
    {
      "cell_type": "markdown",
      "metadata": {
        "id": "view-in-github",
        "colab_type": "text"
      },
      "source": [
        "<a href=\"https://colab.research.google.com/github/joshnn/sake_project/blob/main/llama_index_test.ipynb\" target=\"_parent\"><img src=\"https://colab.research.google.com/assets/colab-badge.svg\" alt=\"Open In Colab\"/></a>"
      ]
    },
    {
      "cell_type": "code",
      "execution_count": 5,
      "metadata": {
        "colab": {
          "base_uri": "https://localhost:8080/"
        },
        "id": "gdKGKgG0j7Wv",
        "outputId": "f795afd0-f1a5-4e4b-8b5b-446e779c380e"
      },
      "outputs": [
        {
          "output_type": "stream",
          "name": "stdout",
          "text": [
            "Requirement already satisfied: llama_index in /usr/local/lib/python3.10/dist-packages (0.8.22)\n",
            "Requirement already satisfied: openai in /usr/local/lib/python3.10/dist-packages (0.28.0)\n",
            "Requirement already satisfied: tiktoken in /usr/local/lib/python3.10/dist-packages (from llama_index) (0.4.0)\n",
            "Requirement already satisfied: dataclasses-json in /usr/local/lib/python3.10/dist-packages (from llama_index) (0.5.14)\n",
            "Requirement already satisfied: langchain>=0.0.262 in /usr/local/lib/python3.10/dist-packages (from llama_index) (0.0.284)\n",
            "Requirement already satisfied: sqlalchemy>=2.0.15 in /usr/local/lib/python3.10/dist-packages (from llama_index) (2.0.20)\n",
            "Requirement already satisfied: numpy in /usr/local/lib/python3.10/dist-packages (from llama_index) (1.23.5)\n",
            "Requirement already satisfied: tenacity<9.0.0,>=8.2.0 in /usr/local/lib/python3.10/dist-packages (from llama_index) (8.2.3)\n",
            "Requirement already satisfied: pandas in /usr/local/lib/python3.10/dist-packages (from llama_index) (1.5.3)\n",
            "Requirement already satisfied: urllib3<2 in /usr/local/lib/python3.10/dist-packages (from llama_index) (1.26.16)\n",
            "Requirement already satisfied: fsspec>=2023.5.0 in /usr/local/lib/python3.10/dist-packages (from llama_index) (2023.6.0)\n",
            "Requirement already satisfied: typing-inspect>=0.8.0 in /usr/local/lib/python3.10/dist-packages (from llama_index) (0.9.0)\n",
            "Requirement already satisfied: typing-extensions>=4.5.0 in /usr/local/lib/python3.10/dist-packages (from llama_index) (4.7.1)\n",
            "Requirement already satisfied: beautifulsoup4 in /usr/local/lib/python3.10/dist-packages (from llama_index) (4.11.2)\n",
            "Requirement already satisfied: nest-asyncio in /usr/local/lib/python3.10/dist-packages (from llama_index) (1.5.7)\n",
            "Requirement already satisfied: requests>=2.20 in /usr/local/lib/python3.10/dist-packages (from openai) (2.31.0)\n",
            "Requirement already satisfied: tqdm in /usr/local/lib/python3.10/dist-packages (from openai) (4.66.1)\n",
            "Requirement already satisfied: aiohttp in /usr/local/lib/python3.10/dist-packages (from openai) (3.8.5)\n",
            "Requirement already satisfied: PyYAML>=5.3 in /usr/local/lib/python3.10/dist-packages (from langchain>=0.0.262->llama_index) (6.0.1)\n",
            "Requirement already satisfied: async-timeout<5.0.0,>=4.0.0 in /usr/local/lib/python3.10/dist-packages (from langchain>=0.0.262->llama_index) (4.0.3)\n",
            "Requirement already satisfied: langsmith<0.1.0,>=0.0.21 in /usr/local/lib/python3.10/dist-packages (from langchain>=0.0.262->llama_index) (0.0.33)\n",
            "Requirement already satisfied: numexpr<3.0.0,>=2.8.4 in /usr/local/lib/python3.10/dist-packages (from langchain>=0.0.262->llama_index) (2.8.5)\n",
            "Requirement already satisfied: pydantic<3,>=1 in /usr/local/lib/python3.10/dist-packages (from langchain>=0.0.262->llama_index) (2.3.0)\n",
            "Requirement already satisfied: attrs>=17.3.0 in /usr/local/lib/python3.10/dist-packages (from aiohttp->openai) (23.1.0)\n",
            "Requirement already satisfied: charset-normalizer<4.0,>=2.0 in /usr/local/lib/python3.10/dist-packages (from aiohttp->openai) (3.2.0)\n",
            "Requirement already satisfied: multidict<7.0,>=4.5 in /usr/local/lib/python3.10/dist-packages (from aiohttp->openai) (6.0.4)\n",
            "Requirement already satisfied: yarl<2.0,>=1.0 in /usr/local/lib/python3.10/dist-packages (from aiohttp->openai) (1.9.2)\n",
            "Requirement already satisfied: frozenlist>=1.1.1 in /usr/local/lib/python3.10/dist-packages (from aiohttp->openai) (1.4.0)\n",
            "Requirement already satisfied: aiosignal>=1.1.2 in /usr/local/lib/python3.10/dist-packages (from aiohttp->openai) (1.3.1)\n",
            "Requirement already satisfied: marshmallow<4.0.0,>=3.18.0 in /usr/local/lib/python3.10/dist-packages (from dataclasses-json->llama_index) (3.20.1)\n",
            "Requirement already satisfied: idna<4,>=2.5 in /usr/local/lib/python3.10/dist-packages (from requests>=2.20->openai) (3.4)\n",
            "Requirement already satisfied: certifi>=2017.4.17 in /usr/local/lib/python3.10/dist-packages (from requests>=2.20->openai) (2023.7.22)\n",
            "Requirement already satisfied: greenlet!=0.4.17 in /usr/local/lib/python3.10/dist-packages (from sqlalchemy>=2.0.15->llama_index) (2.0.2)\n",
            "Requirement already satisfied: mypy-extensions>=0.3.0 in /usr/local/lib/python3.10/dist-packages (from typing-inspect>=0.8.0->llama_index) (1.0.0)\n",
            "Requirement already satisfied: soupsieve>1.2 in /usr/local/lib/python3.10/dist-packages (from beautifulsoup4->llama_index) (2.5)\n",
            "Requirement already satisfied: python-dateutil>=2.8.1 in /usr/local/lib/python3.10/dist-packages (from pandas->llama_index) (2.8.2)\n",
            "Requirement already satisfied: pytz>=2020.1 in /usr/local/lib/python3.10/dist-packages (from pandas->llama_index) (2023.3.post1)\n",
            "Requirement already satisfied: regex>=2022.1.18 in /usr/local/lib/python3.10/dist-packages (from tiktoken->llama_index) (2023.6.3)\n",
            "Requirement already satisfied: packaging>=17.0 in /usr/local/lib/python3.10/dist-packages (from marshmallow<4.0.0,>=3.18.0->dataclasses-json->llama_index) (23.1)\n",
            "Requirement already satisfied: annotated-types>=0.4.0 in /usr/local/lib/python3.10/dist-packages (from pydantic<3,>=1->langchain>=0.0.262->llama_index) (0.5.0)\n",
            "Requirement already satisfied: pydantic-core==2.6.3 in /usr/local/lib/python3.10/dist-packages (from pydantic<3,>=1->langchain>=0.0.262->llama_index) (2.6.3)\n",
            "Requirement already satisfied: six>=1.5 in /usr/local/lib/python3.10/dist-packages (from python-dateutil>=2.8.1->pandas->llama_index) (1.16.0)\n"
          ]
        }
      ],
      "source": [
        "!pip install llama_index openai"
      ]
    },
    {
      "cell_type": "code",
      "source": [
        "import openai\n",
        "openai.api_key = '<MY_API_KEY>'"
      ],
      "metadata": {
        "id": "A3e8Ij9TkNGo"
      },
      "execution_count": 6,
      "outputs": []
    },
    {
      "cell_type": "code",
      "source": [
        "from llama_index import GPTVectorStoreIndex, download_loader\n",
        "\n",
        "SimpleWebPageReader = download_loader(\"SimpleWebPageReader\")\n",
        "\n",
        "loader = SimpleWebPageReader()\n",
        "documents = loader.load_data(urls=['https://news.yahoo.co.jp/categories/world'])\n",
        "index = GPTVectorStoreIndex.from_documents(documents)\n",
        "query_engine = index.as_query_engine()\n",
        "query_engine.query('What language is on this website?')"
      ],
      "metadata": {
        "colab": {
          "base_uri": "https://localhost:8080/"
        },
        "id": "KdbLycjKj9FY",
        "outputId": "d96d1ebe-d2bd-4875-aa5a-a918e35390ea"
      },
      "execution_count": 8,
      "outputs": [
        {
          "output_type": "execute_result",
          "data": {
            "text/plain": [
              "Response(response='The language on this website appears to be Japanese.', source_nodes=[NodeWithScore(node=TextNode(id_='edb157bb-271b-46ff-9073-94501be9efd6', embedding=None, metadata={}, excluded_embed_metadata_keys=[], excluded_llm_metadata_keys=[], relationships={<NodeRelationship.SOURCE: '1'>: RelatedNodeInfo(node_id='df5aae6b-0c15-4b6a-b7d4-048d1ff09f98', node_type=None, metadata={}, hash='2b9df435cecc1d89aabba216a8c6f3d3f817ca08ec117aeeb313592470f59d13'), <NodeRelationship.PREVIOUS: '2'>: RelatedNodeInfo(node_id='0d99f5ab-2607-4509-bf9a-612e2c8225fd', node_type=None, metadata={}, hash='bf089cabb62f3c0b7a5b32436fb84a68422124d7f1513c7fe598696b014e5440'), <NodeRelationship.NEXT: '3'>: RelatedNodeInfo(node_id='2f553657-3ad9-4460-aacd-a0aeccb458c9', node_type=None, metadata={}, hash='cec7bb598b8b752cdb9558026f5d65a83ddd0d5bbd55571344582a3db8a84cea')}, hash='5f6af6a4b05cb33c219580f4cf360f8ebc2e8931aa3ee3d972d67fa06eb561a9', text='5 riff-text-small riff-leading-5 riff-whitespace-pre-line\">Yahoo!ニュースのすべての機能を利用するためには、JavaScriptの設定を有効にしてください。<br/><a href=\"https://support.yahoo-net.jp/noscript\">JavaScriptの設定を変更する方法はこちら</a></p></div></div></div></noscript><section class=\"sc-kllXTT kPvHGT topics\" id=\"uamods-topics\"><h2 class=\"sc-hnTMgi kpYQMh\">トピックス</h2><div class=\"sc-dGcLWF bdGzdh\"><div class=\"sc-IKAiU ktzwDn\"><div><ul><li data-ual-view-type=\"list\" data-ual=\"service:news;opttype:pc;apptype:web;element_id:first-international-topics-text;id_type:shannon_article;content_id:60c52e1d643ef185c174a3bd85c96fc4a148f44e;mtestid:mfn_40278=tpc29t3&amp;mfn_18800=ttlg1tc;\" class=\"sc-fHCHyC hRzwyV\"><a href=\"https://news.yahoo.co.jp/pickup/6474808\" data-cl-params=\"_cl_vmodule:tpc_wor;_cl_link:title;_cl_position:1;\" data-ual-gotocontent=\"true\" class=\"sc-dtLLSn dpehyt\">金正恩氏 11日に列車で訪露か<span class=\"sc-WZYut jLeSfx\"><span type=\"NEW\" aria-label=\"NEW\" class=\"sc-eirqVv XiyIJ\" role=\"img\"></span></span></a></li><li data-ual-view-type=\"list\" data-ual=\"service:news;opttype:pc;apptype:web;element_id:first-international-topics-text;id_type:shannon_article;content_id:1bd8fee7eb46648d83783826ce2575e42c947f57;mtestid:mfn_40278=tpc29t3&amp;mfn_18800=ttlg1tc;\" class=\"sc-fHCHyC jhKFuK\"><a href=\"https://news.yahoo.co.jp/pickup/6474800\" data-cl-params=\"_cl_vmodule:tpc_wor;_cl_link:title;_cl_position:2;\" data-ual-gotocontent=\"true\" class=\"sc-dtLLSn dpehyt\">ロシア 併合宣言したウ4州で選挙<span class=\"sc-WZYut jLeSfx\"><span type=\"NEW\" aria-label=\"NEW\" class=\"sc-eirqVv XiyIJ\" role=\"img\"></span></span></a></li><li data-ual-view-type=\"list\" data-ual=\"service:news;opttype:pc;apptype:web;element_id:first-international-topics-text;id_type:shannon_article;content_id:390f17d416efb7da5d3d52281333aaf7b839ef60;mtestid:mfn_40278=tpc29t3&amp;mfn_18800=ttlg1tc;\" class=\"sc-fHCHyC jhKFuK\"><a href=\"https://news.yahoo.co.jp/pickup/6474706\" data-cl-params=\"_cl_vmodule:tpc_wor;_cl_link:title;_cl_position:3;', start_char_idx=None, end_char_idx=None, text_template='{metadata_str}\\n\\n{content}', metadata_template='{key}: {value}', metadata_seperator='\\n'), score=0.7784285509013081), NodeWithScore(node=TextNode(id_='2bc72597-51fe-4def-b890-03b65b4a7a67', embedding=None, metadata={}, excluded_embed_metadata_keys=[], excluded_llm_metadata_keys=[], relationships={<NodeRelationship.SOURCE: '1'>: RelatedNodeInfo(node_id='df5aae6b-0c15-4b6a-b7d4-048d1ff09f98', node_type=None, metadata={}, hash='2b9df435cecc1d89aabba216a8c6f3d3f817ca08ec117aeeb313592470f59d13'), <NodeRelationship.PREVIOUS: '2'>: RelatedNodeInfo(node_id='e65ca68d-cde7-435e-9cb3-ff1d627be531', node_type=None, metadata={}, hash='a15d067d649d709e03f03198f6d1380584e1555822bfb3eb7456be9d53b4ca83'), <NodeRelationship.NEXT: '3'>: RelatedNodeInfo(node_id='7faad2a0-8645-48b4-842e-8d25e130cc17', node_type=None, metadata={}, hash='d80c47ed032fdd6177a571977acee72020a9160f4242e373d150fcf028583306')}, hash='d2b7b448a58b40c4dffb0855b8cb9e73a5ce0cff596d7d709a872e785e62957d', text='jp/uUzvQ3lML_bkIqyakc1vFlbRKZtM9u5XWE0uy3m1LJu6SLQ0Hjm4rTXshTvF449c0yswukNWDFV_l_1Ir44LxLu8GxP9dvpIjReBpL1B9xp5zYJh8LMaWDqMi_nic79YbbfvELq_8o7sBFuGAPQjFFsMqI8d3GNufVIH8Jrkv_75tZebqf94KZLlSMZJrXCrHTzm8QajHAA6Ke8kv6lsSb3Ps0Y5XcdetUhmvOrdaU1L9OIA41IBip6113SvPCMDkFG9Y1msH0Vrsak6Pylrg-4eJwM0Xuo9TqdKd4tJbZ-xWF9I1-iqQIOCkOz0FUY4\"/><source type=\"image/jpeg\" srcSet=\"https://news-pctr.c.yimg.jp/uUzvQ3lML_bkIqyakc1vFlbRKZtM9u5XWE0uy3m1LJu6SLQ0Hjm4rTXshTvF449c0yswukNWDFV_l_1Ir44LxLu8GxP9dvpIjReBpL1B9xp5zYJh8LMaWDqMi_nic79YbbfvELq_8o7sBFuGAPQjFFsMqI8d3GNufVIH8Jrkv_75tZebqf94KZLlSMZJrXCrHTzm8QajHAA6Ke8kv6lsSb3Ps0Y5XcdetUhmvOrdaU1L9OIA41IBip6113SvPCMD8n1kR0k9_x3jlkwhG8prQ31FREHgHV3bvh_yJqPseRbxhyqZkDRSxpKNUf8hKqZ5\"/><img loading=\"lazy\" src=\"https://news-pctr.c.yimg.jp/t/amd-img/20230908-00080041-chosun-000-7-view.jpg?w=264&amp;h=264&amp;pri=l&amp;cx=203&amp;cy=0&amp;cw=419&amp;ch=419&amp;q=90&amp;exp=10800&amp;order=c2r\" alt=\"\" class=\"sc-gGLxEB eFqdlj\"/></picture></div></div></div></div></a></li></ol></div></section><div style=\"visibility:visible\"><div class=\"adWrap adWrap-subColumn adWrap-subColumn-offsetTopMargin\"><div id=\"yads_90113_218124\"></div></div></div><section class=\"sc-jQAxuV hsWAsh\"><div id=\"cmtrate\"><h2 class=\"sc-daBunf eQUdeu\"><a href=\"/ranking/comment/world\" data-cl-params=\"_cl_vmodule:cmtrate;_cl_link:more;\" class=\"sc-jUfyBS eSyZIh\">コメントランキング（国際）</a></h2><ol><li class=\"sc-fXazdy UjHkE\"><a href=\"https://news.yahoo.co.jp/articles/58bd61263bf505cf5fed6b370436f3afa8e7a6ea\" data-cl-params=\"_cl_vmodule:cmtrate;_cl_link:title;_cl_position:1;', start_char_idx=None, end_char_idx=None, text_template='{metadata_str}\\n\\n{content}', metadata_template='{key}: {value}', metadata_seperator='\\n'), score=0.7753457240598746)], metadata={'edb157bb-271b-46ff-9073-94501be9efd6': {}, '2bc72597-51fe-4def-b890-03b65b4a7a67': {}})"
            ]
          },
          "metadata": {},
          "execution_count": 8
        }
      ]
    }
  ]
}